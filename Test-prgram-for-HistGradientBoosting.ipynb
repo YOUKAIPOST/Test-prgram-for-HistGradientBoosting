{
 "cells": [
  {
   "cell_type": "code",
   "execution_count": null,
   "metadata": {},
   "outputs": [],
   "source": [
    "\n",
    "#pip install scikit-learn==0.21.1\n",
    "\n",
    "\n",
    "#kaggleのタイタニックコンペのデータを使用しました。\n",
    "#https://www.kaggle.com/c/titanic/data"
   ]
  },
  {
   "cell_type": "code",
   "execution_count": null,
   "metadata": {},
   "outputs": [],
   "source": [
    "\n",
    "\n",
    "import pandas as pd\n",
    "import numpy as np\n",
    "import random as rnd\n",
    "from sklearn.linear_model import LogisticRegression\n",
    "from sklearn.svm import SVC, LinearSVC\n",
    "from sklearn.ensemble import RandomForestClassifier\n",
    "\n",
    "from sklearn.metrics import accuracy_score\n",
    "from sklearn.model_selection import cross_val_score\n",
    "from sklearn.experimental import enable_hist_gradient_boosting\n",
    "from sklearn.ensemble  import HistGradientBoostingClassifier\n",
    "#from sklearn.ensemble  import HistGradientBoostingRegressor\n",
    "from lightgbm import LGBMClassifier\n",
    "\n",
    "train = pd.read_csv(\"データのあるフォルダ/train.csv\")\n",
    "test = pd.read_csv(\"データのあるフォルダ/test.csv\")\n"
   ]
  },
  {
   "cell_type": "code",
   "execution_count": null,
   "metadata": {},
   "outputs": [],
   "source": [
    "train[\"Age\"].fillna(train[\"Age\"].median(), inplace=True)\n",
    "train['Embarked'].fillna('C', inplace=True)\n",
    "train[\"Sex\"][train[\"Sex\"] == \"male\"] = 0\n",
    "train[\"Sex\"][train[\"Sex\"] == \"female\"] = 1\n",
    "train['Sex']= train['Sex'].astype(float)\n",
    "train[\"Embarked\"][train[\"Embarked\"] == \"S\" ] = 0\n",
    "train[\"Embarked\"][train[\"Embarked\"] == \"C\" ] = 1\n",
    "train[\"Embarked\"][train[\"Embarked\"] == \"Q\"] = 2\n",
    "train['Embarked']= train['Embarked'].astype(float)\n",
    "\n",
    "test[\"Age\"] = test[\"Age\"].fillna(test[\"Age\"].median())\n",
    "test[\"Sex\"][test[\"Sex\"] == \"male\"] = 0\n",
    "test[\"Sex\"][test[\"Sex\"] == \"female\"] = 1\n",
    "test['Sex']= test['Sex'].astype(float)\n",
    "test[\"Embarked\"][test[\"Embarked\"] == \"S\"] = 0\n",
    "test[\"Embarked\"][test[\"Embarked\"] == \"C\"] = 1\n",
    "test[\"Embarked\"][test[\"Embarked\"] == \"Q\"] = 2\n",
    "test['Embarked']= test['Embarked'].astype(float)\n",
    "test.Fare[152] = test.Fare.median()"
   ]
  },
  {
   "cell_type": "code",
   "execution_count": null,
   "metadata": {},
   "outputs": [],
   "source": [
    "X_train = train.drop(['Survived','Name','PassengerId','Cabin','Ticket'], axis=1)\n",
    "y_train = train[\"Survived\"]\n",
    "\n",
    "SVM = SVC()\n",
    "RF = RandomForestClassifier()\n",
    "LR = LogisticRegression()\n",
    "HGBC = HistGradientBoostingClassifier()\n",
    "LGB= LGBMClassifier()\n",
    "\n",
    "scores = []\n",
    "modelnames = ['HistGradient','SVM','RandumForest','LightGBM','LogisticRegression']\n",
    "models = [HGBC,SVM,RF,LGB,LR]\n",
    "\n",
    "for i in models:\n",
    "    score = cross_val_score(i, X_train, y_train, scoring = 'accuracy' , cv = 5).mean()\n",
    "    scores.append(score)\n",
    "\n",
    "pd.DataFrame(scores, index=modelnames,\n",
    "            columns=['CV Scores']).sort_values(by = 'CV Scores', ascending = False)    "
   ]
  },
  {
   "cell_type": "code",
   "execution_count": null,
   "metadata": {},
   "outputs": [],
   "source": []
  },
  {
   "cell_type": "code",
   "execution_count": null,
   "metadata": {},
   "outputs": [],
   "source": []
  }
 ],
 "metadata": {
  "kernelspec": {
   "display_name": "Python 3",
   "language": "python",
   "name": "python3"
  },
  "language_info": {
   "codemirror_mode": {
    "name": "ipython",
    "version": 3
   },
   "file_extension": ".py",
   "mimetype": "text/x-python",
   "name": "python",
   "nbconvert_exporter": "python",
   "pygments_lexer": "ipython3",
   "version": "3.7.6"
  }
 },
 "nbformat": 4,
 "nbformat_minor": 4
}
